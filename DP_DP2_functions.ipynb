{
 "cells": [
  {
   "cell_type": "code",
   "execution_count": 1,
   "metadata": {
    "id": "SmWVBKfOnyc5"
   },
   "outputs": [],
   "source": [
    "import numpy as np\n",
    "import matplotlib.pyplot as plt\n",
    "from tqdm import tqdm\n",
    "import matplotlib as mpl\n",
    "from numba import njit\n",
    "mpl.rcParams['figure.dpi']= 100\n",
    "from numba import vectorize"
   ]
  },
  {
   "cell_type": "markdown",
   "metadata": {
    "id": "DVHq54dPmtqP"
   },
   "source": [
    "## DP functions"
   ]
  },
  {
   "cell_type": "code",
   "execution_count": 2,
   "metadata": {},
   "outputs": [],
   "source": [
    "@vectorize(nopython=True)\n",
    "def logic2(a,b,r1,p):\n",
    "    if a == 1:\n",
    "        if b == 1:\n",
    "            # CASE A A\n",
    "            if r1 < (1-(1-p)**2):  return 1\n",
    "            else:                  return 0\n",
    "        else:\n",
    "            # CASE A I\n",
    "            if r1 < p:             return 1\n",
    "            else:                  return 0\n",
    "    else:\n",
    "        if b == 1:\n",
    "            # CASE A I\n",
    "            if r1 < p:             return 1\n",
    "            else:                  return 0\n",
    "        else:\n",
    "            #CASE I I \n",
    "                                   return 0\n",
    "\n",
    "@njit\n",
    "def simula_DP(p,L0,T):\n",
    "    L = np.copy(L0)\n",
    "    N = len(L0)\n",
    "    H = np.zeros((T+1,N))\n",
    "    H[0] = np.copy(L)\n",
    "    d = 1\n",
    "    cont = 1\n",
    "    for t in range(T):\n",
    "        L2 = np.zeros(len(L))\n",
    "        if d == 1:\n",
    "            # MOVE TO THE RIGHT\n",
    "            d = 2\n",
    "            x = L[:-1]\n",
    "            y = L[1:]\n",
    "            r = np.random.random(len(x))\n",
    "            L2[:-1] = logic2(x,y,r,p)\n",
    "            if L[-1] == 1:\n",
    "                if np.random.random() < p:\n",
    "                    L2[-1] = 1\n",
    "            else: L2[-1] = L[-1]\n",
    "            L = np.copy(L2)\n",
    "        else:\n",
    "            # MOVE TO THE LEFT\n",
    "            d = 1\n",
    "            x = L[:-1]\n",
    "            y = L[1:]\n",
    "            r = np.random.random(len(x))\n",
    "            L2[1:] = logic2(x,y,r,p)\n",
    "            if L[1] == 1:\n",
    "                if np.random.random() < p:\n",
    "                    L2[1] = 1\n",
    "            else: L2[1] = L[1]\n",
    "            L = np.copy(L2)\n",
    "        H[cont] = np.copy(L)\n",
    "        cont += 1\n",
    "    return H   "
   ]
  },
  {
   "cell_type": "code",
   "execution_count": 3,
   "metadata": {},
   "outputs": [],
   "source": [
    "@njit\n",
    "def corr(C):\n",
    "    dim = C.shape\n",
    "    out = np.zeros(dim[0])\n",
    "    cont = np.zeros(dim[0])\n",
    "    \n",
    "    for i in range(dim[0]):\n",
    "        for j in range(dim[1]):\n",
    "            ind = np.abs(i-j)\n",
    "            out[ind] += C[i,j]\n",
    "            cont[ind] += 1\n",
    "            \n",
    "    return out/cont\n",
    "_ = corr(np.ones((3,3)))"
   ]
  },
  {
   "cell_type": "markdown",
   "metadata": {},
   "source": [
    "## DP2 functions"
   ]
  },
  {
   "cell_type": "code",
   "execution_count": 4,
   "metadata": {},
   "outputs": [],
   "source": [
    "@vectorize(nopython=True)\n",
    "def logic(a,b,r1,r2,p):\n",
    "    if a == 0:\n",
    "        if b == 0:\n",
    "            # CASE A A\n",
    "            if r1 < (1-(1-p)**2):  return 0\n",
    "            elif r2 < 0.5:         return 1\n",
    "            else:                  return 2\n",
    "        elif b==1:\n",
    "            # CASE A I1\n",
    "            if r1 < p:             return 0\n",
    "            else:                  return 1\n",
    "        else:\n",
    "            # CASE A I2\n",
    "            if r1 < p:             return 0\n",
    "            else:                  return 2\n",
    "    elif a == 1:\n",
    "        if b == 0:\n",
    "            # CASE A I1\n",
    "            if r1 < p:             return 0\n",
    "            else:                  return 1\n",
    "        elif b == 1:\n",
    "            #CASE I1 I1 \n",
    "                                   return 1\n",
    "        else:\n",
    "            #CASE I1 I2 \n",
    "                                   return 0\n",
    "    else:\n",
    "        if b == 0:\n",
    "            # CASE A I2\n",
    "            if r1 < p:             return 0\n",
    "            else:                  return 2\n",
    "        elif b == 1:\n",
    "            #CASE I2 I1 \n",
    "                                   return 0\n",
    "        else:\n",
    "            #CASE I2 I2 \n",
    "                                   return 2\n",
    "\n",
    "@njit\n",
    "def simula_DP2(p,L0,T):\n",
    "    L = np.copy(L0)\n",
    "    N = len(L0)\n",
    "    H = np.zeros((T+1,N))\n",
    "    H[0] = np.copy(L)\n",
    "    d = 1\n",
    "    cont = 1\n",
    "    for t in range(T):\n",
    "        L2 = np.zeros(len(L))\n",
    "        if d == 1:\n",
    "            # MOVE TO THE RIGHT\n",
    "            d = 2\n",
    "            x = L[:-1]\n",
    "            y = L[1:]\n",
    "            r = np.random.random((2, len(x)))\n",
    "            L2[:-1] = logic(x,y,r[0],r[1],p)\n",
    "            if L[-1] == 0:\n",
    "                if np.random.random() > p:\n",
    "                    if np.random.random() < 0.5: L2[-1] = 1\n",
    "                    else                       : L2[-1] = 2\n",
    "            else: L2[-1] = L[-1]\n",
    "            L = np.copy(L2)\n",
    "        else:\n",
    "            # MOVE TO THE LEFT\n",
    "            d = 1\n",
    "            x = L[:-1]\n",
    "            y = L[1:]\n",
    "            r = np.random.random((2, len(x)))\n",
    "            L2[1:] = logic(x,y,r[0],r[1],p)\n",
    "            if L[1] == 0:\n",
    "                if np.random.random() > p:\n",
    "                    if np.random.random() < 0.5: L2[1] = 1\n",
    "                    else                       : L2[1] = 2\n",
    "            else: L2[1] = L[1]\n",
    "            L = np.copy(L2)\n",
    "        H[cont] = np.copy(L)\n",
    "        cont += 1\n",
    "    return H\n",
    "\n",
    "def simula2(p,L0,T):\n",
    "    H = simula_DP2(p,L0,T)\n",
    "    H[H == 0] = -1 \n",
    "    H [H>0] = 0\n",
    "    K = np.abs(H)\n",
    "    return K"
   ]
  },
  {
   "cell_type": "markdown",
   "metadata": {},
   "source": [
    "## PLOTS"
   ]
  },
  {
   "cell_type": "code",
   "execution_count": 5,
   "metadata": {},
   "outputs": [],
   "source": [
    "from PIL import Image, ImageDraw"
   ]
  },
  {
   "cell_type": "code",
   "execution_count": 6,
   "metadata": {},
   "outputs": [],
   "source": [
    "def disegna(a,stampa = False):\n",
    "    bg = (255,255,255)\n",
    "    blue = (0,0,255)\n",
    "    dim = a.shape\n",
    "    img = Image.new('RGB', (dx*dim[1]*2+dx, dx*dim[0]+dx), bg)\n",
    "    draw = ImageDraw.Draw(img)\n",
    "    \n",
    "    \n",
    "    \n",
    "    for j in range(dim[0]):\n",
    "        y = dx*j\n",
    "        for i in range(dim[1]):\n",
    "            if j % 2 == 0:\n",
    "                x = 2*i*dx\n",
    "            else : x = dx + 2*i*dx\n",
    "            if a[j,i]: \n",
    "                color = blue\n",
    "                draw.polygon(\n",
    "                    ((x+dx, y),(x+2*dx, y+dx),(x+dx,y+2*dx),(x, y+dx)),\n",
    "                    fill=color,\n",
    "                    outline=blue)\n",
    "\n",
    "\n",
    "    if stampa: display(img)\n",
    "    return img"
   ]
  },
  {
   "cell_type": "code",
   "execution_count": 11,
   "metadata": {},
   "outputs": [],
   "source": [
    "def disegna2(a,stampa = False):\n",
    "    bg = (255,255,255)\n",
    "    blue = (0,0,255)\n",
    "    brown = (135,76,0)\n",
    "    gray = (100,100,100)\n",
    "    \n",
    "    dim = a.shape\n",
    "    img = Image.new('RGB', (dx*dim[1]*2+dx, dx*dim[0]+dx), bg)\n",
    "    draw = ImageDraw.Draw(img)\n",
    "    \n",
    "    \n",
    "    \n",
    "    for j in range(dim[0]):\n",
    "        y = dx*j\n",
    "        for i in range(dim[1]):\n",
    "            if j % 2 == 0:\n",
    "                x = 2*i*dx\n",
    "            else : x = dx + 2*i*dx\n",
    "            if a[j,i] == 0: \n",
    "                color = blue\n",
    "            elif a[j,i] == 1:\n",
    "                color = gray\n",
    "            elif a[j,i] == 2: \n",
    "                color = brown\n",
    "            else :color = bg\n",
    "            draw.polygon(\n",
    "                    ((x+dx, y),(x+2*dx, y+dx),(x+dx,y+2*dx),(x, y+dx)),\n",
    "                    fill=color,\n",
    "                    outline=color)\n",
    "\n",
    "\n",
    "    if stampa: display(img)\n",
    "    return img"
   ]
  },
  {
   "cell_type": "code",
   "execution_count": 10,
   "metadata": {},
   "outputs": [
    {
     "data": {
      "image/png": "[encoded data removed]",
      "text/plain": [
       "<PIL.Image.Image image mode=RGB size=806x606 at 0x7FBEB4CF9CA0>"
      ]
     },
     "execution_count": 10,
     "metadata": {},
     "output_type": "execute_result"
    }
   ],
   "source": [
    "dx =2\n",
    "\n",
    "N =201\n",
    "p = 0.645\n",
    "L0 = np.zeros(N)\n",
    "L0[int(1+N/2)]=1\n",
    "a = simula_DP(p,L0,T=int(N*1.5))\n",
    "disegna(a)\n",
    "#img.save(path+\"gif1-\"+str(cont)+'.png')"
   ]
  },
  {
   "cell_type": "code",
   "execution_count": 15,
   "metadata": {},
   "outputs": [
    {
     "data": {
      "image/png": "[encoded data removed]",
      "text/plain": [
       "<PIL.Image.Image image mode=RGB size=606x608 at 0x7FBEB485BD00>"
      ]
     },
     "metadata": {},
     "output_type": "display_data"
    }
   ],
   "source": [
    "dx =2\n",
    "\n",
    "np.random.seed(1234)\n",
    "\n",
    "N =151\n",
    "p = 0.55\n",
    "L0 = np.random.randint(0,3,N)+0.\n",
    "\n",
    "a = simula_DP2(p,L0,T=int(N*2))\n",
    "img = disegna2(a,True)\n",
    "#img.save('img/inactive_DP2.png')"
   ]
  },
  {
   "cell_type": "code",
   "execution_count": 12,
   "metadata": {},
   "outputs": [
    {
     "name": "stderr",
     "output_type": "stream",
     "text": [
      "100%|██████████████████████████████████████████████████████████████| 302/302 [00:03<00:00, 98.38it/s]\n"
     ]
    }
   ],
   "source": [
    "path = 'gif1/'\n",
    "b = np.zeros(a.shape)\n",
    "\n",
    "dim = a.shape\n",
    "IMG = Image.new('RGB', (dx*dim[1]*2+dx, dx*dim[0]+dx), (0, 0, 0))\n",
    "\n",
    "L_img = []\n",
    "\n",
    "cont = 0\n",
    "skip = int(1+len(a)/80)\n",
    "for i in tqdm(range(len(a))):\n",
    "    if i%skip == 0:\n",
    "        b[:(i+1)] = a[:(i+1)]\n",
    "        img = disegna(b)\n",
    "        img.save(path+\"gif1-\"+str(cont)+'.png')\n",
    "        cont+=1\n",
    "    \n",
    "#IMG.save('out.gif', save_all=True, append_images=L_img, duration=100, loop=0)"
   ]
  },
  {
   "cell_type": "code",
   "execution_count": 289,
   "metadata": {},
   "outputs": [
    {
     "name": "stderr",
     "output_type": "stream",
     "text": [
      "100%|████████████████████████████████████████████████████████████████████████████████████████████████| 262/262 [00:14<00:00, 18.65it/s]\n"
     ]
    }
   ],
   "source": [
    "path = 'gif2/'\n",
    "b = -np.ones(a.shape)\n",
    "\n",
    "dim = a.shape\n",
    "IMG = Image.new('RGB', (dx*dim[1]*2+dx, dx*dim[0]+dx), (0, 0, 0))\n",
    "\n",
    "L_img = []\n",
    "\n",
    "cont = 0\n",
    "skip = int(1+len(a)/80)\n",
    "for i in tqdm(range(len(a))):\n",
    "    if i%skip == 0:\n",
    "        b[:(i+1)] = a[:(i+1)]\n",
    "        img = disegna2(b)\n",
    "        img.save(path+\"gif2-\"+str(cont)+'.png')\n",
    "        cont+=1\n",
    "    \n",
    "#IMG.save('out.gif', save_all=True, append_images=L_img, duration=100, loop=0)"
   ]
  }
 ],
 "metadata": {
  "colab": {
   "collapsed_sections": [],
   "name": "Physics_of_Complex_Systems.ipynb",
   "provenance": []
  },
  "kernelspec": {
   "display_name": "Python 3 (ipykernel)",
   "language": "python",
   "name": "python3"
  },
  "language_info": {
   "codemirror_mode": {
    "name": "ipython",
    "version": 3
   },
   "file_extension": ".py",
   "mimetype": "text/x-python",
   "name": "python",
   "nbconvert_exporter": "python",
   "pygments_lexer": "ipython3",
   "version": "3.9.7"
  }
 },
 "nbformat": 4,
 "nbformat_minor": 1
}
